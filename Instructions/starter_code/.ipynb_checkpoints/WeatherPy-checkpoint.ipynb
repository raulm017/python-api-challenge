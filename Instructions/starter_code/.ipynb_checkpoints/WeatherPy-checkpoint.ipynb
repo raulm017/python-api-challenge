{
 "cells": [
  {
   "cell_type": "markdown",
   "metadata": {},
   "source": [
    "# WeatherPy\n",
    "----\n",
    "\n",
    "#### Note\n",
    "* Instructions have been included for each segment. You do not have to follow them exactly, but they are included to help you think through the steps."
   ]
  },
  {
   "cell_type": "code",
   "execution_count": 32,
   "metadata": {
    "scrolled": true
   },
   "outputs": [],
   "source": [
    "# Dependencies and Setup\n",
    "import matplotlib.pyplot as plt\n",
    "import pandas as pd\n",
    "import numpy as np\n",
    "import requests\n",
    "import time\n",
    "from scipy.stats import linregress\n",
    "\n",
    "# Import API key\n",
    "from api_keys import weather_api_key\n",
    "\n",
    "# Incorporated citipy to determine city based on latitude and longitude\n",
    "from citipy import citipy\n",
    "\n",
    "# Output File (CSV)\n",
    "output_data_file = \"'output_data/cities.csv\"\n",
    "\n",
    "# Range of latitudes and longitudes\n",
    "lat_range = (-90, 90)\n",
    "lng_range = (-180, 180)"
   ]
  },
  {
   "cell_type": "markdown",
   "metadata": {},
   "source": [
    "## Generate Cities List"
   ]
  },
  {
   "cell_type": "code",
   "execution_count": 2,
   "metadata": {},
   "outputs": [
    {
     "data": {
      "text/plain": [
       "609"
      ]
     },
     "execution_count": 2,
     "metadata": {},
     "output_type": "execute_result"
    }
   ],
   "source": [
    "# List for holding lat_lngs and cities\n",
    "lat_lngs = []\n",
    "cities = []\n",
    "\n",
    "# Create a set of random lat and lng combinations\n",
    "lats = np.random.uniform(lat_range[0], lat_range[1], size=1500)\n",
    "lngs = np.random.uniform(lng_range[0], lng_range[1], size=1500)\n",
    "lat_lngs = zip(lats, lngs)\n",
    "\n",
    "# Identify nearest city for each lat, lng combination\n",
    "for lat_lng in lat_lngs:\n",
    "    city = citipy.nearest_city(lat_lng[0], lat_lng[1]).city_name\n",
    "    \n",
    "    # If the city is unique, then add it to a our cities list\n",
    "    if city not in cities:\n",
    "        cities.append(city)\n",
    "\n",
    "# Print the city count to confirm sufficient count\n",
    "len(cities)"
   ]
  },
  {
   "cell_type": "code",
   "execution_count": 3,
   "metadata": {},
   "outputs": [
    {
     "data": {
      "text/plain": [
       "['albany',\n",
       " 'petrovskoye',\n",
       " 'liku',\n",
       " 'jamestown',\n",
       " 'hobart',\n",
       " 'provideniya',\n",
       " 'taoudenni',\n",
       " 'airai',\n",
       " 'ushuaia',\n",
       " 'busselton']"
      ]
     },
     "execution_count": 3,
     "metadata": {},
     "output_type": "execute_result"
    }
   ],
   "source": [
    "cities[:10]"
   ]
  },
  {
   "cell_type": "code",
   "execution_count": 4,
   "metadata": {},
   "outputs": [
    {
     "data": {
      "text/plain": [
       "'a335ddd08ddd5665fbe8eeed98ddb24f'"
      ]
     },
     "execution_count": 4,
     "metadata": {},
     "output_type": "execute_result"
    }
   ],
   "source": [
    "weather_api_key"
   ]
  },
  {
   "cell_type": "markdown",
   "metadata": {},
   "source": [
    "### Perform API Calls\n",
    "* Perform a weather check on each city using a series of successive API calls.\n",
    "* Include a print log of each city as it'sbeing processed (with the city number and city name).\n"
   ]
  },
  {
   "cell_type": "code",
   "execution_count": 25,
   "metadata": {},
   "outputs": [
    {
     "name": "stdout",
     "output_type": "stream",
     "text": [
      "albany\n",
      "petrovskoye\n",
      "liku\n",
      "jamestown\n",
      "hobart\n",
      "provideniya\n",
      "taoudenni\n",
      "airai\n",
      "ushuaia\n",
      "busselton\n",
      "kahului\n",
      "shimoda\n",
      "kapaa\n",
      "asau\n",
      "riohacha\n",
      "waingapu\n",
      "barentsburg\n",
      "barentsburg not found\n",
      "necochea\n",
      "mar del plata\n",
      "gwadar\n",
      "san matias\n",
      "katsuura\n",
      "port alfred\n",
      "borgo san dalmazzo\n",
      "rikitea\n",
      "sao borja\n",
      "atuona\n",
      "makakilo city\n",
      "council bluffs\n",
      "puerto ayora\n",
      "cheuskiny\n",
      "cheuskiny not found\n",
      "nikolskoye\n",
      "belushya guba\n",
      "belushya guba not found\n",
      "moses lake\n",
      "yellowknife\n",
      "buqayq\n",
      "buqayq not found\n",
      "sao luiz gonzaga\n",
      "coquimbo\n",
      "vaini\n",
      "azimur\n",
      "azimur not found\n",
      "hovd\n",
      "upernavik\n",
      "punta arenas\n",
      "constitucion\n",
      "ostrovnoy\n",
      "the valley\n",
      "auki\n",
      "avarua\n",
      "buckeye\n",
      "punta alta\n",
      "mataura\n",
      "bredasdorp\n",
      "zhanatas\n",
      "zhanatas not found\n",
      "chicama\n",
      "clyde river\n",
      "bluff\n",
      "kismayo\n",
      "ilulissat\n",
      "cape town\n",
      "cidreira\n",
      "fortuna\n",
      "atar\n",
      "klaksvik\n",
      "tessalit\n",
      "hilo\n",
      "amderma\n",
      "amderma not found\n",
      "aguadilla\n",
      "butaritari\n",
      "tiksi\n",
      "warmbad\n",
      "saint-joseph\n",
      "marystown\n",
      "sabya\n",
      "lebu\n",
      "mulege\n",
      "east london\n",
      "hithadhoo\n",
      "grand gaube\n",
      "rovaniemi\n",
      "orotukan\n",
      "akyab\n",
      "pueblo nuevo\n",
      "kamenka\n",
      "hermanus\n",
      "mahebourg\n",
      "karratha\n",
      "anloga\n",
      "bajram curri\n",
      "port elizabeth\n",
      "lola\n",
      "urusha\n",
      "carnarvon\n",
      "tautira\n",
      "tsihombe\n",
      "tsihombe not found\n",
      "larap\n",
      "kangaatsiaq\n",
      "henties bay\n",
      "attawapiskat\n",
      "attawapiskat not found\n",
      "taolanaro\n",
      "taolanaro not found\n",
      "meulaboh\n",
      "solovetskiy\n",
      "solovetskiy not found\n",
      "tibati\n",
      "tuktoyaktuk\n",
      "kiama\n",
      "hirara\n",
      "pisco\n",
      "maniitsoq\n",
      "guerrero negro\n",
      "santa isabel do rio negro\n",
      "mahibadhoo\n",
      "la mana\n",
      "la ronge\n",
      "port hardy\n",
      "olafsvik\n",
      "plouzane\n",
      "rio grande\n",
      "lolua\n",
      "lolua not found\n",
      "melilla\n",
      "ambodifototra\n",
      "ambodifototra not found\n",
      "chokurdakh\n",
      "waipawa\n",
      "qaanaaq\n",
      "banda aceh\n",
      "korla\n",
      "minbu\n",
      "bethel\n",
      "alta floresta\n",
      "golden\n",
      "hay river\n",
      "kaniama\n",
      "yeppoon\n",
      "vanimo\n",
      "illoqqortoormiut\n",
      "illoqqortoormiut not found\n",
      "atambua\n",
      "haapu\n",
      "haapu not found\n",
      "vaitupu\n",
      "vaitupu not found\n",
      "mahon\n",
      "severo-kurilsk\n",
      "luderitz\n",
      "castro\n",
      "ribera\n",
      "leningradskiy\n",
      "nebolchi\n",
      "stromness\n",
      "tilichiki\n",
      "locri\n",
      "vostok\n",
      "kruisfontein\n",
      "oro valley\n",
      "eyl\n",
      "bathurst\n",
      "namibe\n",
      "gigmoto\n",
      "samusu\n",
      "samusu not found\n",
      "victoria\n",
      "haines junction\n",
      "thanh hoa\n",
      "georgetown\n",
      "puerto lleras\n",
      "emba\n",
      "torbay\n",
      "amga\n",
      "atikokan\n",
      "toora-khem\n",
      "ilebo\n",
      "cukai\n",
      "pevek\n",
      "florida\n",
      "zaplyusye\n",
      "zaplyusye not found\n",
      "bengkulu\n",
      "tsiroanomandidy\n",
      "ukholovo\n",
      "podor\n",
      "tucuman\n",
      "san patricio\n",
      "ugoofaaru\n",
      "salto\n",
      "tasiilaq\n",
      "vao\n",
      "juybar\n",
      "cam ranh\n",
      "sorland\n",
      "chuy\n",
      "havoysund\n",
      "cabo san lucas\n",
      "saint-philippe\n",
      "prince rupert\n",
      "hami\n",
      "tuy hoa\n",
      "caravelas\n",
      "sayat\n",
      "beyneu\n",
      "sentyabrskiy\n",
      "sentyabrskiy not found\n",
      "dzilam gonzalez\n",
      "dwarka\n",
      "ocara\n",
      "sitka\n",
      "miles city\n",
      "souillac\n",
      "cap malheureux\n",
      "namatanai\n",
      "nhamunda\n",
      "esperance\n",
      "deputatskiy\n",
      "mokhsogollokh\n",
      "nouadhibou\n",
      "rio gallegos\n",
      "alice springs\n",
      "zhengjiatun\n",
      "saskylakh\n",
      "biratnagar\n",
      "lagoa\n",
      "arlit\n",
      "qaqortoq\n",
      "mehamn\n",
      "sao joao da barra\n",
      "kavaratti\n",
      "narsaq\n",
      "hutchinson\n",
      "hambantota\n",
      "grand river south east\n",
      "grand river south east not found\n",
      "mys shmidta\n",
      "mys shmidta not found\n",
      "kaitangata\n",
      "nome\n",
      "bushenyi\n",
      "kisanga\n",
      "clearwater\n",
      "port lincoln\n",
      "barinas\n",
      "kaloz\n",
      "sishui\n",
      "mashhad\n",
      "hamilton\n",
      "adre\n",
      "pangnirtung\n",
      "kharan\n",
      "port macquarie\n",
      "honningsvag\n",
      "saint anthony\n",
      "nordenham\n",
      "nuuk\n",
      "saint-augustin\n",
      "bathsheba\n",
      "faya\n",
      "taksimo\n",
      "mullaitivu\n",
      "mullaitivu not found\n",
      "utinga\n",
      "saint-prosper\n",
      "barrow\n",
      "kodiak\n",
      "touros\n",
      "mambolo\n",
      "deshna\n",
      "deshna not found\n",
      "plyussa\n",
      "esil\n",
      "ponta do sol\n",
      "lasa\n",
      "kortkeros\n",
      "biloela\n",
      "thinadhoo\n",
      "port-gentil\n",
      "dingle\n",
      "eureka\n",
      "sinkat\n",
      "sinkat not found\n",
      "la asuncion\n",
      "vostochnyy\n",
      "ishigaki\n",
      "sabalgarh\n",
      "hearst\n",
      "harper\n",
      "lavrentiya\n",
      "homer\n",
      "ribeira grande\n",
      "bambous virieux\n",
      "nanortalik\n",
      "linjiang\n",
      "vallenar\n",
      "tuatapere\n",
      "salalah\n",
      "aklavik\n",
      "dikson\n",
      "mangan\n",
      "bonthe\n",
      "canavieiras\n",
      "balkanabat\n",
      "avera\n",
      "roebourne\n",
      "beringovskiy\n",
      "camacha\n",
      "birjand\n",
      "marcona\n",
      "marcona not found\n",
      "nurota\n",
      "leh\n",
      "loikaw\n",
      "saint-francois\n",
      "oranzherei\n",
      "ninotsminda\n",
      "longyearbyen\n",
      "uusikaupunki\n",
      "groningen\n",
      "wladyslawowo\n",
      "shubarshi\n",
      "waddan\n",
      "geraldton\n",
      "khatanga\n",
      "casambalangan\n",
      "ha tinh\n",
      "khandbari\n",
      "minab\n",
      "los llanos de aridane\n",
      "gemunden\n",
      "baruun-urt\n",
      "formoso do araguaia\n",
      "formoso do araguaia not found\n",
      "mitchell\n",
      "maroua\n",
      "boden\n",
      "arvika\n",
      "arraial do cabo\n",
      "mosquera\n",
      "sao bento\n",
      "buzmeyin\n",
      "morshansk\n",
      "mumford\n",
      "bargal\n",
      "bargal not found\n",
      "doha\n",
      "estrela\n",
      "starokostyantyniv\n",
      "sept-iles\n",
      "amapa\n",
      "dutse\n",
      "cayenne\n",
      "srednekolymsk\n",
      "jutai\n",
      "simao dias\n",
      "ust-tsilma\n",
      "sola\n",
      "butembo\n",
      "baherden\n",
      "catabola\n",
      "alofi\n",
      "kununurra\n",
      "nanakuli\n",
      "cherskiy\n",
      "bud\n",
      "lompoc\n",
      "palabuhanratu\n",
      "palabuhanratu not found\n",
      "sorvag\n",
      "sorvag not found\n",
      "yar-sale\n",
      "bayonet point\n",
      "tocopilla\n",
      "bondo\n",
      "namyslow\n",
      "kieta\n",
      "balkhash\n",
      "san policarpo\n",
      "aswan\n",
      "marienburg\n",
      "suao\n",
      "suao not found\n",
      "bandarbeyla\n",
      "murgab\n",
      "saldanha\n",
      "kyshtovka\n",
      "watrous\n",
      "ballarat\n",
      "new norfolk\n",
      "chizhou\n",
      "oktyabrskiy\n",
      "maraa\n",
      "salmas\n",
      "vardo\n",
      "carutapera\n",
      "dig\n",
      "ahipara\n",
      "yeletskiy\n",
      "yeletskiy not found\n",
      "barbalha\n",
      "lachi\n",
      "bradford\n",
      "barahona\n",
      "gornopravdinsk\n",
      "smoky lake\n",
      "jeremoabo\n",
      "znamensk\n",
      "xuanzhou\n",
      "bac lieu\n",
      "pa sang\n",
      "komsomolets\n",
      "porgera\n",
      "jujuy\n",
      "jujuy not found\n",
      "nacozari\n",
      "przhevalskoye\n",
      "thompson\n",
      "hasaki\n",
      "florence\n",
      "balikpapan\n",
      "muros\n",
      "richards bay\n",
      "puro\n",
      "kichmengskiy gorodok\n",
      "palmerston\n",
      "nizhneyansk\n",
      "nizhneyansk not found\n",
      "galle\n",
      "mus\n",
      "cerro de pasco\n",
      "nam tha\n",
      "nam tha not found\n",
      "upata\n",
      "nanzhang\n",
      "barcelos\n",
      "mineros\n",
      "magadan\n",
      "tabou\n",
      "puerto narino\n",
      "flin flon\n",
      "nacala\n",
      "tooele\n",
      "llata\n",
      "damghan\n",
      "mayo\n",
      "kazachinskoye\n",
      "novyy urengoy\n",
      "shitkino\n",
      "ust-ilimsk\n",
      "menongue\n",
      "vigrestad\n",
      "norman wells\n",
      "hofn\n",
      "vokhma\n",
      "aflu\n",
      "aflu not found\n",
      "semirom\n",
      "saint-pierre\n",
      "polyarnyy\n",
      "manjacaze\n",
      "port blair\n",
      "ambon\n",
      "marawi\n",
      "roma\n",
      "polunochnoye\n",
      "giresun\n",
      "pimenta bueno\n",
      "ancud\n",
      "kamina\n",
      "camacupa\n",
      "te anau\n",
      "mapiripan\n",
      "fairbanks\n",
      "pamanukan\n",
      "salekhard\n",
      "kabala\n",
      "broken hill\n",
      "mataram\n",
      "khartoum\n",
      "sorong\n",
      "lagos\n",
      "pacific grove\n",
      "bontang\n",
      "umzimvubu\n",
      "umzimvubu not found\n",
      "northampton\n",
      "shetpe\n",
      "linxi\n",
      "talnakh\n",
      "liniere\n",
      "liniere not found\n",
      "half moon bay\n",
      "sussex\n",
      "aripuana\n",
      "adrar\n",
      "chaman\n",
      "felidhoo\n",
      "felidhoo not found\n",
      "kamenskoye\n",
      "kamenskoye not found\n",
      "price\n",
      "olga\n",
      "sakakah\n",
      "okhotsk\n",
      "shubarkuduk\n",
      "waterloo\n",
      "champerico\n",
      "mount gambier\n",
      "nikel\n",
      "vaitape\n",
      "san borja\n",
      "port hedland\n",
      "kidderminster\n",
      "ati\n",
      "shahr-e babak\n",
      "santa maria\n",
      "mahina\n",
      "la rioja\n",
      "tunduru\n",
      "tunduru not found\n",
      "kasempa\n",
      "inuvik\n",
      "linxia\n",
      "paragould\n",
      "maldonado\n",
      "le vauclin\n",
      "fare\n",
      "mackenzie\n",
      "darnah\n",
      "chumikan\n",
      "brignoles\n",
      "tumpat\n",
      "fallon\n",
      "brisbane\n",
      "puerto santander\n",
      "sawtell\n",
      "dhidhdhoo\n",
      "nahrin\n",
      "west wendover\n",
      "belmonte\n",
      "korsakovo\n",
      "jiddah\n",
      "jiddah not found\n",
      "quatre cocos\n",
      "bonfim\n",
      "troitsko-pechorsk\n",
      "kanie\n",
      "bengkalis\n",
      "bengkalis not found\n",
      "yuzhno-yeniseyskiy\n",
      "yuzhno-yeniseyskiy not found\n",
      "samarinda\n",
      "jhawarian\n",
      "mirador\n",
      "diu\n",
      "cumaribo\n",
      "cumaribo not found\n",
      "kuche\n",
      "kuche not found\n",
      "tezu\n",
      "boende\n",
      "arima\n",
      "sabha\n",
      "laguna\n",
      "kyra\n",
      "upington\n",
      "lexington\n",
      "nyurba\n",
      "samarai\n",
      "oistins\n",
      "karkaralinsk\n",
      "karkaralinsk not found\n",
      "niquero\n",
      "moba\n",
      "mollendo\n",
      "navahrudak\n",
      "pelym\n",
      "mandal\n",
      "berlevag\n",
      "isiro\n",
      "aguimes\n",
      "buraydah\n",
      "palmer\n",
      "akdepe\n",
      "vicuna\n",
      "jumla\n",
      "perth\n",
      "gorno-chuyskiy\n",
      "gorno-chuyskiy not found\n",
      "husavik\n",
      "passy\n",
      "coihaique\n",
      "safonovo\n",
      "newport\n",
      "sabzevar\n",
      "saint-georges\n",
      "isla vista\n",
      "hualmay\n",
      "bambanglipuro\n",
      "sosua\n",
      "alekseyevsk\n",
      "mendi\n",
      "yangambi\n",
      "itaituba\n",
      "xushan\n",
      "kavieng\n",
      "kuryk\n",
      "chute-aux-outardes\n",
      "vila franca do campo\n",
      "kembe\n",
      "lilongwe\n",
      "ketchikan\n",
      "kapuskasing\n",
      "kyabe\n",
      "kearney\n",
      "broome\n",
      "springfield\n",
      "morristown\n",
      "bolgatanga\n",
      "apiai\n",
      "biankouma\n",
      "barawe\n",
      "barawe not found\n",
      "charters towers\n",
      "da lat\n",
      "iquitos\n",
      "chapais\n",
      "behbahan\n",
      "sibay\n",
      "lorengau\n",
      "labrea\n",
      "yarada\n",
      "tagusao\n",
      "yinchuan\n",
      "yulara\n",
      "sumenep\n",
      "teguise\n",
      "soyo\n",
      "joshimath\n",
      "vila velha\n",
      "micheweni\n",
      "vestmannaeyjar\n",
      "grand centre\n",
      "grand centre not found\n",
      "qui nhon\n",
      "rizhao\n",
      "tiffin\n",
      "marsa matruh\n",
      "dunedin\n",
      "karasjok\n",
      "kenai\n",
      "praia da vitoria\n"
     ]
    }
   ],
   "source": [
    "temps=[]\n",
    "humidity=[]\n",
    "clouds=[]\n",
    "wind=[]\n",
    "lats=[]\n",
    "longs=[]\n",
    "countries=[]\n",
    "dates=[]\n",
    "cities_list=[]\n",
    "\n",
    "url = \"http://api.openweathermap.org/data/2.5/weather?units=Imperial&APPID=\" + weather_api_key + '&q='\n",
    "for city in cities:\n",
    "    query_url=url+city\n",
    "    \n",
    "    try:\n",
    "        print(city)\n",
    "        response=requests.get(query_url).json()\n",
    "        temps.append(response['main']['temp_max'])\n",
    "        lats.append(response['coord']['lat'])\n",
    "        longs.append(response['coord']['lon'])\n",
    "        humidity.append(response['main']['humidity'])\n",
    "        clouds.append(response['clouds']['all'])\n",
    "        countries.append(response['sys']['country'])\n",
    "        dates.append(response['dt'])\n",
    "        wind.append(response['wind']['speed'])\n",
    "        cities_list.append(response['name'])\n",
    "    \n",
    "    except KeyError:\n",
    "        print(f'{city} not found')\n",
    "    \n",
    "#     break\n",
    "\n"
   ]
  },
  {
   "cell_type": "code",
   "execution_count": 16,
   "metadata": {},
   "outputs": [
    {
     "data": {
      "text/plain": [
       "(560, 560, 560, 560, 560, 560, 560, 560)"
      ]
     },
     "execution_count": 16,
     "metadata": {},
     "output_type": "execute_result"
    }
   ],
   "source": [
    "len(temps), len(clouds), len(lats), len(longs), len(countries), len(wind), len(humidity), len(dates)"
   ]
  },
  {
   "cell_type": "code",
   "execution_count": 6,
   "metadata": {},
   "outputs": [
    {
     "data": {
      "text/plain": [
       "{'coord': {'lon': -73.9662, 'lat': 42.6001},\n",
       " 'weather': [{'id': 800,\n",
       "   'main': 'Clear',\n",
       "   'description': 'clear sky',\n",
       "   'icon': '01n'}],\n",
       " 'base': 'stations',\n",
       " 'main': {'temp': 24.87,\n",
       "  'feels_like': 18.12,\n",
       "  'temp_min': 21.99,\n",
       "  'temp_max': 27,\n",
       "  'pressure': 1007,\n",
       "  'humidity': 61},\n",
       " 'visibility': 10000,\n",
       " 'wind': {'speed': 2.13, 'deg': 222},\n",
       " 'clouds': {'all': 0},\n",
       " 'dt': 1612494200,\n",
       " 'sys': {'type': 3,\n",
       "  'id': 19530,\n",
       "  'country': 'US',\n",
       "  'sunrise': 1612440391,\n",
       "  'sunset': 1612476786},\n",
       " 'timezone': -18000,\n",
       " 'id': 5106841,\n",
       " 'name': 'Albany',\n",
       " 'cod': 200}"
      ]
     },
     "execution_count": 6,
     "metadata": {},
     "output_type": "execute_result"
    }
   ],
   "source": [
    "response"
   ]
  },
  {
   "cell_type": "markdown",
   "metadata": {},
   "source": [
    "### Convert Raw Data to DataFrame\n",
    "* Export the city data into a .csv.\n",
    "* Display the DataFrame"
   ]
  },
  {
   "cell_type": "code",
   "execution_count": 33,
   "metadata": {},
   "outputs": [],
   "source": [
    "cities_df.to_csv(output_data_file, index=False)"
   ]
  },
  {
   "cell_type": "code",
   "execution_count": 26,
   "metadata": {},
   "outputs": [],
   "source": [
    "cities_df=pd.DataFrame({'City':cities_list, 'Max Temperature':temps, 'Cloudiness':clouds, 'Latitude':lats, 'Longitude':longs, \n",
    "                        'Country':countries, 'Wind Speed':wind, 'Humidity':humidity, \"Dates\":dates})"
   ]
  },
  {
   "cell_type": "code",
   "execution_count": 27,
   "metadata": {},
   "outputs": [
    {
     "data": {
      "text/html": [
       "<div>\n",
       "<style scoped>\n",
       "    .dataframe tbody tr th:only-of-type {\n",
       "        vertical-align: middle;\n",
       "    }\n",
       "\n",
       "    .dataframe tbody tr th {\n",
       "        vertical-align: top;\n",
       "    }\n",
       "\n",
       "    .dataframe thead th {\n",
       "        text-align: right;\n",
       "    }\n",
       "</style>\n",
       "<table border=\"1\" class=\"dataframe\">\n",
       "  <thead>\n",
       "    <tr style=\"text-align: right;\">\n",
       "      <th></th>\n",
       "      <th>City</th>\n",
       "      <th>Max Temperature</th>\n",
       "      <th>Cloudiness</th>\n",
       "      <th>Latitude</th>\n",
       "      <th>Longitude</th>\n",
       "      <th>Country</th>\n",
       "      <th>Wind Speed</th>\n",
       "      <th>Humidity</th>\n",
       "      <th>Dates</th>\n",
       "    </tr>\n",
       "  </thead>\n",
       "  <tbody>\n",
       "    <tr>\n",
       "      <th>0</th>\n",
       "      <td>Albany</td>\n",
       "      <td>26.01</td>\n",
       "      <td>18</td>\n",
       "      <td>42.6001</td>\n",
       "      <td>-73.9662</td>\n",
       "      <td>US</td>\n",
       "      <td>2.82</td>\n",
       "      <td>64</td>\n",
       "      <td>1612497597</td>\n",
       "    </tr>\n",
       "    <tr>\n",
       "      <th>1</th>\n",
       "      <td>Petrovskoye</td>\n",
       "      <td>6.67</td>\n",
       "      <td>100</td>\n",
       "      <td>57.0104</td>\n",
       "      <td>39.2693</td>\n",
       "      <td>RU</td>\n",
       "      <td>9.15</td>\n",
       "      <td>94</td>\n",
       "      <td>1612497773</td>\n",
       "    </tr>\n",
       "    <tr>\n",
       "      <th>2</th>\n",
       "      <td>Liku</td>\n",
       "      <td>85.48</td>\n",
       "      <td>95</td>\n",
       "      <td>-0.7275</td>\n",
       "      <td>119.8922</td>\n",
       "      <td>ID</td>\n",
       "      <td>4.88</td>\n",
       "      <td>59</td>\n",
       "      <td>1612497773</td>\n",
       "    </tr>\n",
       "    <tr>\n",
       "      <th>3</th>\n",
       "      <td>Jamestown</td>\n",
       "      <td>36.00</td>\n",
       "      <td>90</td>\n",
       "      <td>42.0970</td>\n",
       "      <td>-79.2353</td>\n",
       "      <td>US</td>\n",
       "      <td>19.57</td>\n",
       "      <td>64</td>\n",
       "      <td>1612497773</td>\n",
       "    </tr>\n",
       "    <tr>\n",
       "      <th>4</th>\n",
       "      <td>Hobart</td>\n",
       "      <td>78.01</td>\n",
       "      <td>75</td>\n",
       "      <td>-42.8794</td>\n",
       "      <td>147.3294</td>\n",
       "      <td>AU</td>\n",
       "      <td>14.97</td>\n",
       "      <td>73</td>\n",
       "      <td>1612497606</td>\n",
       "    </tr>\n",
       "    <tr>\n",
       "      <th>...</th>\n",
       "      <td>...</td>\n",
       "      <td>...</td>\n",
       "      <td>...</td>\n",
       "      <td>...</td>\n",
       "      <td>...</td>\n",
       "      <td>...</td>\n",
       "      <td>...</td>\n",
       "      <td>...</td>\n",
       "      <td>...</td>\n",
       "    </tr>\n",
       "    <tr>\n",
       "      <th>555</th>\n",
       "      <td>Marsá Maţrūḩ</td>\n",
       "      <td>60.80</td>\n",
       "      <td>75</td>\n",
       "      <td>31.3525</td>\n",
       "      <td>27.2453</td>\n",
       "      <td>EG</td>\n",
       "      <td>12.66</td>\n",
       "      <td>67</td>\n",
       "      <td>1612497842</td>\n",
       "    </tr>\n",
       "    <tr>\n",
       "      <th>556</th>\n",
       "      <td>Dunedin</td>\n",
       "      <td>55.99</td>\n",
       "      <td>67</td>\n",
       "      <td>-45.8742</td>\n",
       "      <td>170.5036</td>\n",
       "      <td>NZ</td>\n",
       "      <td>25.99</td>\n",
       "      <td>70</td>\n",
       "      <td>1612497842</td>\n",
       "    </tr>\n",
       "    <tr>\n",
       "      <th>557</th>\n",
       "      <td>Karasjok</td>\n",
       "      <td>26.60</td>\n",
       "      <td>90</td>\n",
       "      <td>69.4719</td>\n",
       "      <td>25.5112</td>\n",
       "      <td>NO</td>\n",
       "      <td>10.36</td>\n",
       "      <td>80</td>\n",
       "      <td>1612497842</td>\n",
       "    </tr>\n",
       "    <tr>\n",
       "      <th>558</th>\n",
       "      <td>Kenai</td>\n",
       "      <td>18.00</td>\n",
       "      <td>90</td>\n",
       "      <td>60.5544</td>\n",
       "      <td>-151.2583</td>\n",
       "      <td>US</td>\n",
       "      <td>10.36</td>\n",
       "      <td>79</td>\n",
       "      <td>1612497843</td>\n",
       "    </tr>\n",
       "    <tr>\n",
       "      <th>559</th>\n",
       "      <td>Praia da Vitória</td>\n",
       "      <td>51.80</td>\n",
       "      <td>75</td>\n",
       "      <td>38.7333</td>\n",
       "      <td>-27.0667</td>\n",
       "      <td>PT</td>\n",
       "      <td>19.55</td>\n",
       "      <td>87</td>\n",
       "      <td>1612497843</td>\n",
       "    </tr>\n",
       "  </tbody>\n",
       "</table>\n",
       "<p>560 rows × 9 columns</p>\n",
       "</div>"
      ],
      "text/plain": [
       "                 City  Max Temperature  Cloudiness  Latitude  Longitude  \\\n",
       "0              Albany            26.01          18   42.6001   -73.9662   \n",
       "1         Petrovskoye             6.67         100   57.0104    39.2693   \n",
       "2                Liku            85.48          95   -0.7275   119.8922   \n",
       "3           Jamestown            36.00          90   42.0970   -79.2353   \n",
       "4              Hobart            78.01          75  -42.8794   147.3294   \n",
       "..                ...              ...         ...       ...        ...   \n",
       "555      Marsá Maţrūḩ            60.80          75   31.3525    27.2453   \n",
       "556           Dunedin            55.99          67  -45.8742   170.5036   \n",
       "557          Karasjok            26.60          90   69.4719    25.5112   \n",
       "558             Kenai            18.00          90   60.5544  -151.2583   \n",
       "559  Praia da Vitória            51.80          75   38.7333   -27.0667   \n",
       "\n",
       "    Country  Wind Speed  Humidity       Dates  \n",
       "0        US        2.82        64  1612497597  \n",
       "1        RU        9.15        94  1612497773  \n",
       "2        ID        4.88        59  1612497773  \n",
       "3        US       19.57        64  1612497773  \n",
       "4        AU       14.97        73  1612497606  \n",
       "..      ...         ...       ...         ...  \n",
       "555      EG       12.66        67  1612497842  \n",
       "556      NZ       25.99        70  1612497842  \n",
       "557      NO       10.36        80  1612497842  \n",
       "558      US       10.36        79  1612497843  \n",
       "559      PT       19.55        87  1612497843  \n",
       "\n",
       "[560 rows x 9 columns]"
      ]
     },
     "execution_count": 27,
     "metadata": {},
     "output_type": "execute_result"
    }
   ],
   "source": [
    "cities_df"
   ]
  },
  {
   "cell_type": "markdown",
   "metadata": {},
   "source": [
    "## Inspect the data and remove the cities where the humidity > 100%.\n",
    "----\n",
    "Skip this step if there are no cities that have humidity > 100%. "
   ]
  },
  {
   "cell_type": "code",
   "execution_count": 43,
   "metadata": {},
   "outputs": [
    {
     "data": {
      "text/html": [
       "<div>\n",
       "<style scoped>\n",
       "    .dataframe tbody tr th:only-of-type {\n",
       "        vertical-align: middle;\n",
       "    }\n",
       "\n",
       "    .dataframe tbody tr th {\n",
       "        vertical-align: top;\n",
       "    }\n",
       "\n",
       "    .dataframe thead th {\n",
       "        text-align: right;\n",
       "    }\n",
       "</style>\n",
       "<table border=\"1\" class=\"dataframe\">\n",
       "  <thead>\n",
       "    <tr style=\"text-align: right;\">\n",
       "      <th></th>\n",
       "      <th>City</th>\n",
       "      <th>Max Temperature</th>\n",
       "      <th>Cloudiness</th>\n",
       "      <th>Latitude</th>\n",
       "      <th>Longitude</th>\n",
       "      <th>Country</th>\n",
       "      <th>Wind Speed</th>\n",
       "      <th>Humidity</th>\n",
       "      <th>Dates</th>\n",
       "    </tr>\n",
       "  </thead>\n",
       "  <tbody>\n",
       "  </tbody>\n",
       "</table>\n",
       "</div>"
      ],
      "text/plain": [
       "Empty DataFrame\n",
       "Columns: [City, Max Temperature, Cloudiness, Latitude, Longitude, Country, Wind Speed, Humidity, Dates]\n",
       "Index: []"
      ]
     },
     "execution_count": 43,
     "metadata": {},
     "output_type": "execute_result"
    }
   ],
   "source": [
    "cities_df.loc[cities_df['Humidity']>100]"
   ]
  },
  {
   "cell_type": "code",
   "execution_count": 35,
   "metadata": {},
   "outputs": [
    {
     "data": {
      "text/html": [
       "<div>\n",
       "<style scoped>\n",
       "    .dataframe tbody tr th:only-of-type {\n",
       "        vertical-align: middle;\n",
       "    }\n",
       "\n",
       "    .dataframe tbody tr th {\n",
       "        vertical-align: top;\n",
       "    }\n",
       "\n",
       "    .dataframe thead th {\n",
       "        text-align: right;\n",
       "    }\n",
       "</style>\n",
       "<table border=\"1\" class=\"dataframe\">\n",
       "  <thead>\n",
       "    <tr style=\"text-align: right;\">\n",
       "      <th></th>\n",
       "      <th>Max Temperature</th>\n",
       "      <th>Cloudiness</th>\n",
       "      <th>Latitude</th>\n",
       "      <th>Longitude</th>\n",
       "      <th>Wind Speed</th>\n",
       "      <th>Humidity</th>\n",
       "      <th>Dates</th>\n",
       "    </tr>\n",
       "  </thead>\n",
       "  <tbody>\n",
       "    <tr>\n",
       "      <th>count</th>\n",
       "      <td>560.000000</td>\n",
       "      <td>560.000000</td>\n",
       "      <td>560.000000</td>\n",
       "      <td>560.000000</td>\n",
       "      <td>560.000000</td>\n",
       "      <td>560.000000</td>\n",
       "      <td>5.600000e+02</td>\n",
       "    </tr>\n",
       "    <tr>\n",
       "      <th>mean</th>\n",
       "      <td>50.016107</td>\n",
       "      <td>53.646429</td>\n",
       "      <td>20.606266</td>\n",
       "      <td>14.858586</td>\n",
       "      <td>7.889054</td>\n",
       "      <td>74.808929</td>\n",
       "      <td>1.612498e+09</td>\n",
       "    </tr>\n",
       "    <tr>\n",
       "      <th>std</th>\n",
       "      <td>30.090455</td>\n",
       "      <td>39.426524</td>\n",
       "      <td>32.683073</td>\n",
       "      <td>88.275220</td>\n",
       "      <td>5.559293</td>\n",
       "      <td>18.632908</td>\n",
       "      <td>6.313843e+01</td>\n",
       "    </tr>\n",
       "    <tr>\n",
       "      <th>min</th>\n",
       "      <td>-41.800000</td>\n",
       "      <td>0.000000</td>\n",
       "      <td>-54.800000</td>\n",
       "      <td>-175.200000</td>\n",
       "      <td>0.200000</td>\n",
       "      <td>17.000000</td>\n",
       "      <td>1.612497e+09</td>\n",
       "    </tr>\n",
       "    <tr>\n",
       "      <th>25%</th>\n",
       "      <td>32.000000</td>\n",
       "      <td>11.750000</td>\n",
       "      <td>-6.145200</td>\n",
       "      <td>-62.154925</td>\n",
       "      <td>3.560000</td>\n",
       "      <td>66.000000</td>\n",
       "      <td>1.612498e+09</td>\n",
       "    </tr>\n",
       "    <tr>\n",
       "      <th>50%</th>\n",
       "      <td>59.000000</td>\n",
       "      <td>59.500000</td>\n",
       "      <td>25.311650</td>\n",
       "      <td>21.332250</td>\n",
       "      <td>6.900000</td>\n",
       "      <td>78.000000</td>\n",
       "      <td>1.612498e+09</td>\n",
       "    </tr>\n",
       "    <tr>\n",
       "      <th>75%</th>\n",
       "      <td>74.865000</td>\n",
       "      <td>92.250000</td>\n",
       "      <td>47.291600</td>\n",
       "      <td>87.223775</td>\n",
       "      <td>11.187500</td>\n",
       "      <td>88.250000</td>\n",
       "      <td>1.612498e+09</td>\n",
       "    </tr>\n",
       "    <tr>\n",
       "      <th>max</th>\n",
       "      <td>91.530000</td>\n",
       "      <td>100.000000</td>\n",
       "      <td>78.218600</td>\n",
       "      <td>179.316700</td>\n",
       "      <td>35.750000</td>\n",
       "      <td>100.000000</td>\n",
       "      <td>1.612498e+09</td>\n",
       "    </tr>\n",
       "  </tbody>\n",
       "</table>\n",
       "</div>"
      ],
      "text/plain": [
       "       Max Temperature  Cloudiness    Latitude   Longitude  Wind Speed  \\\n",
       "count       560.000000  560.000000  560.000000  560.000000  560.000000   \n",
       "mean         50.016107   53.646429   20.606266   14.858586    7.889054   \n",
       "std          30.090455   39.426524   32.683073   88.275220    5.559293   \n",
       "min         -41.800000    0.000000  -54.800000 -175.200000    0.200000   \n",
       "25%          32.000000   11.750000   -6.145200  -62.154925    3.560000   \n",
       "50%          59.000000   59.500000   25.311650   21.332250    6.900000   \n",
       "75%          74.865000   92.250000   47.291600   87.223775   11.187500   \n",
       "max          91.530000  100.000000   78.218600  179.316700   35.750000   \n",
       "\n",
       "         Humidity         Dates  \n",
       "count  560.000000  5.600000e+02  \n",
       "mean    74.808929  1.612498e+09  \n",
       "std     18.632908  6.313843e+01  \n",
       "min     17.000000  1.612497e+09  \n",
       "25%     66.000000  1.612498e+09  \n",
       "50%     78.000000  1.612498e+09  \n",
       "75%     88.250000  1.612498e+09  \n",
       "max    100.000000  1.612498e+09  "
      ]
     },
     "execution_count": 35,
     "metadata": {},
     "output_type": "execute_result"
    }
   ],
   "source": [
    "cities_df.describe()"
   ]
  },
  {
   "cell_type": "code",
   "execution_count": 44,
   "metadata": {},
   "outputs": [],
   "source": [
    "#  Get the indices of cities that have humidity over 100%.\n",
    "\n",
    "    # No cities with humudity over 100%"
   ]
  },
  {
   "cell_type": "code",
   "execution_count": 50,
   "metadata": {},
   "outputs": [
    {
     "data": {
      "text/html": [
       "<div>\n",
       "<style scoped>\n",
       "    .dataframe tbody tr th:only-of-type {\n",
       "        vertical-align: middle;\n",
       "    }\n",
       "\n",
       "    .dataframe tbody tr th {\n",
       "        vertical-align: top;\n",
       "    }\n",
       "\n",
       "    .dataframe thead th {\n",
       "        text-align: right;\n",
       "    }\n",
       "</style>\n",
       "<table border=\"1\" class=\"dataframe\">\n",
       "  <thead>\n",
       "    <tr style=\"text-align: right;\">\n",
       "      <th></th>\n",
       "      <th>City</th>\n",
       "      <th>Max Temperature</th>\n",
       "      <th>Cloudiness</th>\n",
       "      <th>Latitude</th>\n",
       "      <th>Longitude</th>\n",
       "      <th>Country</th>\n",
       "      <th>Wind Speed</th>\n",
       "      <th>Humidity</th>\n",
       "      <th>Dates</th>\n",
       "    </tr>\n",
       "  </thead>\n",
       "  <tbody>\n",
       "    <tr>\n",
       "      <th>0</th>\n",
       "      <td>Albany</td>\n",
       "      <td>26.01</td>\n",
       "      <td>18</td>\n",
       "      <td>42.6001</td>\n",
       "      <td>-73.9662</td>\n",
       "      <td>US</td>\n",
       "      <td>2.82</td>\n",
       "      <td>64</td>\n",
       "      <td>1612497597</td>\n",
       "    </tr>\n",
       "    <tr>\n",
       "      <th>1</th>\n",
       "      <td>Petrovskoye</td>\n",
       "      <td>6.67</td>\n",
       "      <td>100</td>\n",
       "      <td>57.0104</td>\n",
       "      <td>39.2693</td>\n",
       "      <td>RU</td>\n",
       "      <td>9.15</td>\n",
       "      <td>94</td>\n",
       "      <td>1612497773</td>\n",
       "    </tr>\n",
       "    <tr>\n",
       "      <th>2</th>\n",
       "      <td>Liku</td>\n",
       "      <td>85.48</td>\n",
       "      <td>95</td>\n",
       "      <td>-0.7275</td>\n",
       "      <td>119.8922</td>\n",
       "      <td>ID</td>\n",
       "      <td>4.88</td>\n",
       "      <td>59</td>\n",
       "      <td>1612497773</td>\n",
       "    </tr>\n",
       "    <tr>\n",
       "      <th>3</th>\n",
       "      <td>Jamestown</td>\n",
       "      <td>36.00</td>\n",
       "      <td>90</td>\n",
       "      <td>42.0970</td>\n",
       "      <td>-79.2353</td>\n",
       "      <td>US</td>\n",
       "      <td>19.57</td>\n",
       "      <td>64</td>\n",
       "      <td>1612497773</td>\n",
       "    </tr>\n",
       "    <tr>\n",
       "      <th>4</th>\n",
       "      <td>Hobart</td>\n",
       "      <td>78.01</td>\n",
       "      <td>75</td>\n",
       "      <td>-42.8794</td>\n",
       "      <td>147.3294</td>\n",
       "      <td>AU</td>\n",
       "      <td>14.97</td>\n",
       "      <td>73</td>\n",
       "      <td>1612497606</td>\n",
       "    </tr>\n",
       "    <tr>\n",
       "      <th>...</th>\n",
       "      <td>...</td>\n",
       "      <td>...</td>\n",
       "      <td>...</td>\n",
       "      <td>...</td>\n",
       "      <td>...</td>\n",
       "      <td>...</td>\n",
       "      <td>...</td>\n",
       "      <td>...</td>\n",
       "      <td>...</td>\n",
       "    </tr>\n",
       "    <tr>\n",
       "      <th>555</th>\n",
       "      <td>Marsá Maţrūḩ</td>\n",
       "      <td>60.80</td>\n",
       "      <td>75</td>\n",
       "      <td>31.3525</td>\n",
       "      <td>27.2453</td>\n",
       "      <td>EG</td>\n",
       "      <td>12.66</td>\n",
       "      <td>67</td>\n",
       "      <td>1612497842</td>\n",
       "    </tr>\n",
       "    <tr>\n",
       "      <th>556</th>\n",
       "      <td>Dunedin</td>\n",
       "      <td>55.99</td>\n",
       "      <td>67</td>\n",
       "      <td>-45.8742</td>\n",
       "      <td>170.5036</td>\n",
       "      <td>NZ</td>\n",
       "      <td>25.99</td>\n",
       "      <td>70</td>\n",
       "      <td>1612497842</td>\n",
       "    </tr>\n",
       "    <tr>\n",
       "      <th>557</th>\n",
       "      <td>Karasjok</td>\n",
       "      <td>26.60</td>\n",
       "      <td>90</td>\n",
       "      <td>69.4719</td>\n",
       "      <td>25.5112</td>\n",
       "      <td>NO</td>\n",
       "      <td>10.36</td>\n",
       "      <td>80</td>\n",
       "      <td>1612497842</td>\n",
       "    </tr>\n",
       "    <tr>\n",
       "      <th>558</th>\n",
       "      <td>Kenai</td>\n",
       "      <td>18.00</td>\n",
       "      <td>90</td>\n",
       "      <td>60.5544</td>\n",
       "      <td>-151.2583</td>\n",
       "      <td>US</td>\n",
       "      <td>10.36</td>\n",
       "      <td>79</td>\n",
       "      <td>1612497843</td>\n",
       "    </tr>\n",
       "    <tr>\n",
       "      <th>559</th>\n",
       "      <td>Praia da Vitória</td>\n",
       "      <td>51.80</td>\n",
       "      <td>75</td>\n",
       "      <td>38.7333</td>\n",
       "      <td>-27.0667</td>\n",
       "      <td>PT</td>\n",
       "      <td>19.55</td>\n",
       "      <td>87</td>\n",
       "      <td>1612497843</td>\n",
       "    </tr>\n",
       "  </tbody>\n",
       "</table>\n",
       "<p>560 rows × 9 columns</p>\n",
       "</div>"
      ],
      "text/plain": [
       "                 City  Max Temperature  Cloudiness  Latitude  Longitude  \\\n",
       "0              Albany            26.01          18   42.6001   -73.9662   \n",
       "1         Petrovskoye             6.67         100   57.0104    39.2693   \n",
       "2                Liku            85.48          95   -0.7275   119.8922   \n",
       "3           Jamestown            36.00          90   42.0970   -79.2353   \n",
       "4              Hobart            78.01          75  -42.8794   147.3294   \n",
       "..                ...              ...         ...       ...        ...   \n",
       "555      Marsá Maţrūḩ            60.80          75   31.3525    27.2453   \n",
       "556           Dunedin            55.99          67  -45.8742   170.5036   \n",
       "557          Karasjok            26.60          90   69.4719    25.5112   \n",
       "558             Kenai            18.00          90   60.5544  -151.2583   \n",
       "559  Praia da Vitória            51.80          75   38.7333   -27.0667   \n",
       "\n",
       "    Country  Wind Speed  Humidity       Dates  \n",
       "0        US        2.82        64  1612497597  \n",
       "1        RU        9.15        94  1612497773  \n",
       "2        ID        4.88        59  1612497773  \n",
       "3        US       19.57        64  1612497773  \n",
       "4        AU       14.97        73  1612497606  \n",
       "..      ...         ...       ...         ...  \n",
       "555      EG       12.66        67  1612497842  \n",
       "556      NZ       25.99        70  1612497842  \n",
       "557      NO       10.36        80  1612497842  \n",
       "558      US       10.36        79  1612497843  \n",
       "559      PT       19.55        87  1612497843  \n",
       "\n",
       "[560 rows x 9 columns]"
      ]
     },
     "execution_count": 50,
     "metadata": {},
     "output_type": "execute_result"
    }
   ],
   "source": [
    "# Make a new DataFrame equal to the city data to drop all humidity outliers by index.\n",
    "# Passing \"inplace=False\" will make a copy of the city_data DataFrame, which we call \"clean_city_data\".\n",
    "\n",
    "drop_index=cities_df.loc[cities_df[\"Humidity\"]>100].index\n",
    "clean_city_data=cities_df.drop(drop_index)\n",
    "clean_city_data"
   ]
  },
  {
   "cell_type": "markdown",
   "metadata": {},
   "source": [
    "## Plotting the Data\n",
    "* Use proper labeling of the plots using plot titles (including date of analysis) and axes labels.\n",
    "* Save the plotted figures as .pngs."
   ]
  },
  {
   "cell_type": "markdown",
   "metadata": {},
   "source": [
    "## Latitude vs. Temperature Plot"
   ]
  },
  {
   "cell_type": "code",
   "execution_count": 60,
   "metadata": {},
   "outputs": [
    {
     "data": {
      "image/png": "[encoded data removed]",
      "text/plain": [
       "<Figure size 432x288 with 1 Axes>"
      ]
     },
     "metadata": {
      "needs_background": "light"
     },
     "output_type": "display_data"
    }
   ],
   "source": [
    "x_values=cities_df[\"Latitude\"]\n",
    "y_values=cities_df[\"Max Temperature\"]\n",
    "plt.scatter(x_values,y_values,edgecolor=\"black\")\n",
    "plt.ylabel(\"Max Temperature\")\n",
    "plt.xlabel(\"Latitude\")\n",
    "plt.title(\"City Latitude vs. Max Temperature\")\n",
    "plt.grid()\n",
    "plt.savefig('output_data/LatvsTemp.png')"
   ]
  },
  {
   "cell_type": "markdown",
   "metadata": {},
   "source": [
    "## Latitude vs. Humidity Plot"
   ]
  },
  {
   "cell_type": "code",
   "execution_count": 63,
   "metadata": {},
   "outputs": [
    {
     "data": {
      "image/png": "[encoded data removed]",
      "text/plain": [
       "<Figure size 432x288 with 1 Axes>"
      ]
     },
     "metadata": {
      "needs_background": "light"
     },
     "output_type": "display_data"
    }
   ],
   "source": [
    "x_values=cities_df[\"Latitude\"]\n",
    "y_values=cities_df[\"Humidity\"]\n",
    "plt.scatter(x_values,y_values,edgecolor=\"black\")\n",
    "plt.ylabel(\"Humiduty (%)\")\n",
    "plt.xlabel(\"Latitude\")\n",
    "plt.title(\"City Latitude vs. Humidity\")\n",
    "plt.grid()\n",
    "plt.savefig('output_data/LatvsHum.png')"
   ]
  },
  {
   "cell_type": "markdown",
   "metadata": {},
   "source": [
    "## Latitude vs. Cloudiness Plot"
   ]
  },
  {
   "cell_type": "code",
   "execution_count": 64,
   "metadata": {},
   "outputs": [
    {
     "data": {
      "image/png": "[encoded data removed]",
      "text/plain": [
       "<Figure size 432x288 with 1 Axes>"
      ]
     },
     "metadata": {
      "needs_background": "light"
     },
     "output_type": "display_data"
    }
   ],
   "source": [
    "x_values=cities_df[\"Latitude\"]\n",
    "y_values=cities_df[\"Cloudiness\"]\n",
    "plt.scatter(x_values,y_values,edgecolor=\"black\")\n",
    "plt.ylabel(\"Cloudiness (%)\")\n",
    "plt.xlabel(\"Latitude\")\n",
    "plt.title(\"City Latitude vs. Cloudiness\")\n",
    "plt.grid()\n",
    "plt.savefig('output_data/LatvsCld.png')"
   ]
  },
  {
   "cell_type": "markdown",
   "metadata": {},
   "source": [
    "## Latitude vs. Wind Speed Plot"
   ]
  },
  {
   "cell_type": "code",
   "execution_count": 65,
   "metadata": {},
   "outputs": [
    {
     "data": {
      "image/png": "[encoded data removed]",
      "text/plain": [
       "<Figure size 432x288 with 1 Axes>"
      ]
     },
     "metadata": {
      "needs_background": "light"
     },
     "output_type": "display_data"
    }
   ],
   "source": [
    "x_values=cities_df[\"Latitude\"]\n",
    "y_values=cities_df[\"Wind Speed\"]\n",
    "plt.scatter(x_values,y_values,edgecolor=\"black\")\n",
    "plt.ylabel(\"Wind Speed (mph)\")\n",
    "plt.xlabel(\"Latitude\")\n",
    "plt.title(\"City Latitude vs. Wind Speed\")\n",
    "plt.grid()\n",
    "plt.savefig('output_data/LatvsWnd.png')"
   ]
  },
  {
   "cell_type": "markdown",
   "metadata": {},
   "source": [
    "## Linear Regression"
   ]
  },
  {
   "cell_type": "markdown",
   "metadata": {},
   "source": [
    "####  Northern Hemisphere - Max Temp vs. Latitude Linear Regression"
   ]
  },
  {
   "cell_type": "code",
   "execution_count": 25,
   "metadata": {},
   "outputs": [
    {
     "name": "stdout",
     "output_type": "stream",
     "text": [
      "The r-value is: 0.46937863826630627\n"
     ]
    },
    {
     "data": {
      "image/png": "[encoded data removed]",
      "text/plain": [
       "<Figure size 432x288 with 1 Axes>"
      ]
     },
     "metadata": {
      "needs_background": "light"
     },
     "output_type": "display_data"
    }
   ],
   "source": []
  },
  {
   "cell_type": "markdown",
   "metadata": {},
   "source": [
    "####  Southern Hemisphere - Max Temp vs. Latitude Linear Regression"
   ]
  },
  {
   "cell_type": "code",
   "execution_count": 26,
   "metadata": {},
   "outputs": [
    {
     "name": "stdout",
     "output_type": "stream",
     "text": [
      "The r-value is: 0.6082708688906918\n"
     ]
    },
    {
     "data": {
      "image/png": "[encoded data removed]",
      "text/plain": [
       "<Figure size 432x288 with 1 Axes>"
      ]
     },
     "metadata": {
      "needs_background": "light"
     },
     "output_type": "display_data"
    }
   ],
   "source": []
  },
  {
   "cell_type": "markdown",
   "metadata": {},
   "source": [
    "####  Northern Hemisphere - Humidity (%) vs. Latitude Linear Regression"
   ]
  },
  {
   "cell_type": "code",
   "execution_count": 27,
   "metadata": {},
   "outputs": [
    {
     "name": "stdout",
     "output_type": "stream",
     "text": [
      "The r-value is: 0.000543987878808455\n"
     ]
    },
    {
     "data": {
      "image/png": "[encoded data removed]",
      "text/plain": [
       "<Figure size 432x288 with 1 Axes>"
      ]
     },
     "metadata": {
      "needs_background": "light"
     },
     "output_type": "display_data"
    }
   ],
   "source": []
  },
  {
   "cell_type": "markdown",
   "metadata": {},
   "source": [
    "####  Southern Hemisphere - Humidity (%) vs. Latitude Linear Regression"
   ]
  },
  {
   "cell_type": "code",
   "execution_count": 28,
   "metadata": {},
   "outputs": [
    {
     "name": "stdout",
     "output_type": "stream",
     "text": [
      "The r-value is: 0.014985174297345524\n"
     ]
    },
    {
     "data": {
      "image/png": "[encoded data removed]",
      "text/plain": [
       "<Figure size 432x288 with 1 Axes>"
      ]
     },
     "metadata": {
      "needs_background": "light"
     },
     "output_type": "display_data"
    }
   ],
   "source": []
  },
  {
   "cell_type": "markdown",
   "metadata": {},
   "source": [
    "####  Northern Hemisphere - Cloudiness (%) vs. Latitude Linear Regression"
   ]
  },
  {
   "cell_type": "code",
   "execution_count": 29,
   "metadata": {},
   "outputs": [
    {
     "name": "stdout",
     "output_type": "stream",
     "text": [
      "The r-value is: 0.0020898727664228514\n"
     ]
    },
    {
     "data": {
      "image/png": "[encoded data removed]",
      "text/plain": [
       "<Figure size 432x288 with 1 Axes>"
      ]
     },
     "metadata": {
      "needs_background": "light"
     },
     "output_type": "display_data"
    }
   ],
   "source": []
  },
  {
   "cell_type": "markdown",
   "metadata": {},
   "source": [
    "####  Southern Hemisphere - Cloudiness (%) vs. Latitude Linear Regression"
   ]
  },
  {
   "cell_type": "code",
   "execution_count": 30,
   "metadata": {},
   "outputs": [
    {
     "name": "stdout",
     "output_type": "stream",
     "text": [
      "The r-value is: 0.0035263772085582894\n"
     ]
    },
    {
     "data": {
      "image/png": "[encoded data removed]",
      "text/plain": [
       "<Figure size 432x288 with 1 Axes>"
      ]
     },
     "metadata": {
      "needs_background": "light"
     },
     "output_type": "display_data"
    }
   ],
   "source": []
  },
  {
   "cell_type": "markdown",
   "metadata": {},
   "source": [
    "####  Northern Hemisphere - Wind Speed (mph) vs. Latitude Linear Regression"
   ]
  },
  {
   "cell_type": "code",
   "execution_count": 31,
   "metadata": {},
   "outputs": [
    {
     "name": "stdout",
     "output_type": "stream",
     "text": [
      "The r-value is: 0.04019723576144484\n"
     ]
    },
    {
     "data": {
      "image/png": "[encoded data removed]",
      "text/plain": [
       "<Figure size 432x288 with 1 Axes>"
      ]
     },
     "metadata": {
      "needs_background": "light"
     },
     "output_type": "display_data"
    }
   ],
   "source": []
  },
  {
   "cell_type": "markdown",
   "metadata": {},
   "source": [
    "####  Southern Hemisphere - Wind Speed (mph) vs. Latitude Linear Regression"
   ]
  },
  {
   "cell_type": "code",
   "execution_count": 32,
   "metadata": {},
   "outputs": [
    {
     "name": "stdout",
     "output_type": "stream",
     "text": [
      "The r-value is: 0.017128274759839232\n"
     ]
    },
    {
     "data": {
      "image/png": "[encoded data removed]",
      "text/plain": [
       "<Figure size 432x288 with 1 Axes>"
      ]
     },
     "metadata": {
      "needs_background": "light"
     },
     "output_type": "display_data"
    }
   ],
   "source": []
  },
  {
   "cell_type": "code",
   "execution_count": null,
   "metadata": {},
   "outputs": [],
   "source": []
  }
 ],
 "metadata": {
  "anaconda-cloud": {},
  "kernel_info": {
   "name": "python3"
  },
  "kernelspec": {
   "display_name": "Python [conda env:PythonData] *",
   "language": "python",
   "name": "conda-env-PythonData-py"
  },
  "language_info": {
   "codemirror_mode": {
    "name": "ipython",
    "version": 3
   },
   "file_extension": ".py",
   "mimetype": "text/x-python",
   "name": "python",
   "nbconvert_exporter": "python",
   "pygments_lexer": "ipython3",
   "version": "3.6.10"
  },
  "latex_envs": {
   "LaTeX_envs_menu_present": true,
   "autoclose": false,
   "autocomplete": true,
   "bibliofile": "biblio.bib",
   "cite_by": "apalike",
   "current_citInitial": 1,
   "eqLabelWithNumbers": true,
   "eqNumInitial": 1,
   "hotkeys": {
    "equation": "Ctrl-E",
    "itemize": "Ctrl-I"
   },
   "labels_anchors": false,
   "latex_user_defs": false,
   "report_style_numbering": false,
   "user_envs_cfg": false
  },
  "nteract": {
   "version": "0.12.3"
  }
 },
 "nbformat": 4,
 "nbformat_minor": 2
}
